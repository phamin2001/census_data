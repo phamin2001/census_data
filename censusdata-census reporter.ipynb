{
 "cells": [
  {
   "cell_type": "markdown",
   "metadata": {},
   "source": [
    "<h1>Table of Contents<span class=\"tocSkip\"></span></h1>\n",
    "<div class=\"toc\"><ul class=\"toc-item\"><li><span><a href=\"#Take-notice!\" data-toc-modified-id=\"Take-notice!-1\"><span class=\"toc-item-num\">1&nbsp;&nbsp;</span>Take notice!</a></span></li><li><span><a href=\"#Pandas-and-census-data\" data-toc-modified-id=\"Pandas-and-census-data-2\"><span class=\"toc-item-num\">2&nbsp;&nbsp;</span>Pandas and census data</a></span><ul class=\"toc-item\"><li><span><a href=\"#Where-to-get-census-data?\" data-toc-modified-id=\"Where-to-get-census-data?-2.1\"><span class=\"toc-item-num\">2.1&nbsp;&nbsp;</span>Where to get census data?</a></span></li><li><span><a href=\"#The-libraries\" data-toc-modified-id=\"The-libraries-2.2\"><span class=\"toc-item-num\">2.2&nbsp;&nbsp;</span>The libraries</a></span></li><li><span><a href=\"#Importing-data\" data-toc-modified-id=\"Importing-data-2.3\"><span class=\"toc-item-num\">2.3&nbsp;&nbsp;</span>Importing data</a></span></li><li><span><a href=\"#Preliminary-inspection\" data-toc-modified-id=\"Preliminary-inspection-2.4\"><span class=\"toc-item-num\">2.4&nbsp;&nbsp;</span>Preliminary inspection</a></span></li><li><span><a href=\"#Data-types\" data-toc-modified-id=\"Data-types-2.5\"><span class=\"toc-item-num\">2.5&nbsp;&nbsp;</span>Data types</a></span><ul class=\"toc-item\"><li><span><a href=\"#The-FIPS-code\" data-toc-modified-id=\"The-FIPS-code-2.5.1\"><span class=\"toc-item-num\">2.5.1&nbsp;&nbsp;</span>The FIPS code</a></span></li></ul></li><li><span><a href=\"#Delete-county-row\" data-toc-modified-id=\"Delete-county-row-2.6\"><span class=\"toc-item-num\">2.6&nbsp;&nbsp;</span>Delete county row</a></span></li><li><span><a href=\"#The-census-data-dictionary\" data-toc-modified-id=\"The-census-data-dictionary-2.7\"><span class=\"toc-item-num\">2.7&nbsp;&nbsp;</span>The census data dictionary</a></span></li><li><span><a href=\"#Dropping-columns\" data-toc-modified-id=\"Dropping-columns-2.8\"><span class=\"toc-item-num\">2.8&nbsp;&nbsp;</span>Dropping columns</a></span></li><li><span><a href=\"#Renaming-columns\" data-toc-modified-id=\"Renaming-columns-2.9\"><span class=\"toc-item-num\">2.9&nbsp;&nbsp;</span>Renaming columns</a></span></li><li><span><a href=\"#Double-check-your-data-integrity\" data-toc-modified-id=\"Double-check-your-data-integrity-2.10\"><span class=\"toc-item-num\">2.10&nbsp;&nbsp;</span>Double check your data integrity</a></span></li><li><span><a href=\"#Simple-stats-and-plots\" data-toc-modified-id=\"Simple-stats-and-plots-2.11\"><span class=\"toc-item-num\">2.11&nbsp;&nbsp;</span>Simple stats and plots</a></span></li><li><span><a href=\"#Create-your-first-plot\" data-toc-modified-id=\"Create-your-first-plot-2.12\"><span class=\"toc-item-num\">2.12&nbsp;&nbsp;</span>Create your first plot</a></span></li><li><span><a href=\"#Sorting\" data-toc-modified-id=\"Sorting-2.13\"><span class=\"toc-item-num\">2.13&nbsp;&nbsp;</span>Sorting</a></span></li><li><span><a href=\"#Filtering-and-subsetting-data\" data-toc-modified-id=\"Filtering-and-subsetting-data-2.14\"><span class=\"toc-item-num\">2.14&nbsp;&nbsp;</span>Filtering and subsetting data</a></span></li><li><span><a href=\"#Totals-are-great-but-let's-normalize-the-data\" data-toc-modified-id=\"Totals-are-great-but-let's-normalize-the-data-2.15\"><span class=\"toc-item-num\">2.15&nbsp;&nbsp;</span>Totals are great but let's normalize the data</a></span><ul class=\"toc-item\"><li><span><a href=\"#Now-it's-your-turn!\" data-toc-modified-id=\"Now-it's-your-turn!-2.15.1\"><span class=\"toc-item-num\">2.15.1&nbsp;&nbsp;</span>Now it's your turn!</a></span></li></ul></li></ul></li><li><span><a href=\"#Maps!\" data-toc-modified-id=\"Maps!-3\"><span class=\"toc-item-num\">3&nbsp;&nbsp;</span>Maps!</a></span><ul class=\"toc-item\"><li><span><a href=\"#Using-subplots-to-create-multiple-plots\" data-toc-modified-id=\"Using-subplots-to-create-multiple-plots-3.1\"><span class=\"toc-item-num\">3.1&nbsp;&nbsp;</span>Using subplots to create multiple plots</a></span></li><li><span><a href=\"#Additional-mapping-ideas\" data-toc-modified-id=\"Additional-mapping-ideas-3.2\"><span class=\"toc-item-num\">3.2&nbsp;&nbsp;</span>Additional mapping ideas</a></span></li><li><span><a href=\"#Add-a-basemap\" data-toc-modified-id=\"Add-a-basemap-3.3\"><span class=\"toc-item-num\">3.3&nbsp;&nbsp;</span>Add a basemap</a></span><ul class=\"toc-item\"><li><span><a href=\"#Project-to-web-mercator\" data-toc-modified-id=\"Project-to-web-mercator-3.3.1\"><span class=\"toc-item-num\">3.3.1&nbsp;&nbsp;</span>Project to web mercator</a></span></li></ul></li></ul></li></ul></div>"
   ]
  },
  {
   "cell_type": "markdown",
   "metadata": {},
   "source": [
    "# 2 Pandas and census data\n",
    "Overview for this workshop:\n",
    "\n",
    "- how and where to find and download census data\n",
    "- use `geopandas` library to read a geojson file ([documentation](https://geopandas.org/gallery/index.html))\n",
    "- use `contextily` to add basemaps ([documentation](https://contextily.readthedocs.io/en/latest/intro_guide.html))\n",
    "- renaming columns\n",
    "- normalizing data columns\n",
    "- simple stats\n",
    "- adding basemaps"
   ]
  },
  {
   "cell_type": "markdown",
   "metadata": {},
   "source": [
    "## Where to get census data?\n",
    "\n",
    "\n",
    "Well, you have many options, including, getting it directly from the source, the [census bureau website](https://www.census.gov/data.html) itself. We also have, as part of the academic community, a great resource: [Social Explorer](https://www.socialexplorer.com/). With a campus-wide license to have full access to their website, you can download any census variable, that pretty much existed... ever. And, with its easy-to-use user interface, this is a wonderful one-stop shop for your census needs.\n",
    "\n",
    "But for data scientists, I recommend another source: [censusreporter.org](https://censusreporter.org/)\n",
    "\n",
    "<a href=\"https://censusreporter.org\" target=\"_blank\"><img src=\"./images/cr.png\"></a>"
   ]
  },
  {
   "cell_type": "code",
   "execution_count": 2,
   "metadata": {},
   "outputs": [],
   "source": [
    "# to read and visualize spatial data\n",
    "import geopandas as gpd\n",
    "\n",
    "# to provide basemaps \n",
    "import contextily as ctx\n",
    "\n",
    "# to give more power to your figures (plots)\n",
    "import matplotlib.pyplot as plt"
   ]
  },
  {
   "cell_type": "markdown",
   "metadata": {},
   "source": [
    "## Importing data\n",
    "\n",
    "In order to work with data in python, we need a library that will let us handle \"spatial data exploration.\" We looked at shapefiles with geopandas last week, and for this lab, we will use it to read and wrangle a [geojson](https://en.wikipedia.org/wiki/GeoJSON) file.\n",
    "\n",
    "Before we continue, let's make a brief detour and find out how geojson files are constructed:\n",
    "\n",
    "- [geojson.io](http://geojson.io/#map=2/20.0/0.0)\n",
    "\n",
    "![geojson](./images/geojson.png)"
   ]
  },
  {
   "cell_type": "code",
   "execution_count": 3,
   "metadata": {},
   "outputs": [],
   "source": [
    "# load a data file\n",
    "# note the relative filepath! where is this file located?\n",
    "gdf = gpd.read_file('./data/acs2022_5yr_B03002_14000US06037275500.geojson')"
   ]
  },
  {
   "cell_type": "markdown",
   "metadata": {},
   "source": [
    "## Preliminary inspection\n",
    "A quick look at the size of the data."
   ]
  },
  {
   "cell_type": "code",
   "execution_count": 6,
   "metadata": {},
   "outputs": [
    {
     "data": {
      "text/plain": [
       "(2499, 45)"
      ]
     },
     "execution_count": 6,
     "metadata": {},
     "output_type": "execute_result"
    }
   ],
   "source": [
    "# get number of rows, columns\n",
    "gdf.shape"
   ]
  },
  {
   "cell_type": "code",
   "execution_count": 7,
   "metadata": {},
   "outputs": [
    {
     "data": {
      "text/html": [
       "<div>\n",
       "<style scoped>\n",
       "    .dataframe tbody tr th:only-of-type {\n",
       "        vertical-align: middle;\n",
       "    }\n",
       "\n",
       "    .dataframe tbody tr th {\n",
       "        vertical-align: top;\n",
       "    }\n",
       "\n",
       "    .dataframe thead th {\n",
       "        text-align: right;\n",
       "    }\n",
       "</style>\n",
       "<table border=\"1\" class=\"dataframe\">\n",
       "  <thead>\n",
       "    <tr style=\"text-align: right;\">\n",
       "      <th></th>\n",
       "      <th>geoid</th>\n",
       "      <th>name</th>\n",
       "      <th>B03002001</th>\n",
       "      <th>B03002001, Error</th>\n",
       "      <th>B03002002</th>\n",
       "      <th>B03002002, Error</th>\n",
       "      <th>B03002003</th>\n",
       "      <th>B03002003, Error</th>\n",
       "      <th>B03002004</th>\n",
       "      <th>B03002004, Error</th>\n",
       "      <th>...</th>\n",
       "      <th>B03002017, Error</th>\n",
       "      <th>B03002018</th>\n",
       "      <th>B03002018, Error</th>\n",
       "      <th>B03002019</th>\n",
       "      <th>B03002019, Error</th>\n",
       "      <th>B03002020</th>\n",
       "      <th>B03002020, Error</th>\n",
       "      <th>B03002021</th>\n",
       "      <th>B03002021, Error</th>\n",
       "      <th>geometry</th>\n",
       "    </tr>\n",
       "  </thead>\n",
       "  <tbody>\n",
       "    <tr>\n",
       "      <th>0</th>\n",
       "      <td>05000US06037</td>\n",
       "      <td>Los Angeles County, CA</td>\n",
       "      <td>9936690.0</td>\n",
       "      <td>NaN</td>\n",
       "      <td>5099096.0</td>\n",
       "      <td>NaN</td>\n",
       "      <td>2505177.0</td>\n",
       "      <td>3167.0</td>\n",
       "      <td>753155.0</td>\n",
       "      <td>3797.0</td>\n",
       "      <td>...</td>\n",
       "      <td>565.0</td>\n",
       "      <td>2204003.0</td>\n",
       "      <td>17272.0</td>\n",
       "      <td>1056804.0</td>\n",
       "      <td>14343.0</td>\n",
       "      <td>951148.0</td>\n",
       "      <td>15361.0</td>\n",
       "      <td>105656.0</td>\n",
       "      <td>4248.0</td>\n",
       "      <td>MULTIPOLYGON (((-118.6782 33.03973, -118.6756 ...</td>\n",
       "    </tr>\n",
       "    <tr>\n",
       "      <th>1</th>\n",
       "      <td>14000US06037101110</td>\n",
       "      <td>Census Tract 1011.10, Los Angeles, CA</td>\n",
       "      <td>4014.0</td>\n",
       "      <td>473.0</td>\n",
       "      <td>2932.0</td>\n",
       "      <td>348.0</td>\n",
       "      <td>2236.0</td>\n",
       "      <td>312.0</td>\n",
       "      <td>121.0</td>\n",
       "      <td>149.0</td>\n",
       "      <td>...</td>\n",
       "      <td>13.0</td>\n",
       "      <td>389.0</td>\n",
       "      <td>298.0</td>\n",
       "      <td>463.0</td>\n",
       "      <td>259.0</td>\n",
       "      <td>410.0</td>\n",
       "      <td>222.0</td>\n",
       "      <td>53.0</td>\n",
       "      <td>79.0</td>\n",
       "      <td>MULTIPOLYGON (((-118.30229 34.2587, -118.30091...</td>\n",
       "    </tr>\n",
       "    <tr>\n",
       "      <th>2</th>\n",
       "      <td>14000US06037101122</td>\n",
       "      <td>Census Tract 1011.22, Los Angeles, CA</td>\n",
       "      <td>4164.0</td>\n",
       "      <td>822.0</td>\n",
       "      <td>3802.0</td>\n",
       "      <td>819.0</td>\n",
       "      <td>2882.0</td>\n",
       "      <td>790.0</td>\n",
       "      <td>76.0</td>\n",
       "      <td>86.0</td>\n",
       "      <td>...</td>\n",
       "      <td>13.0</td>\n",
       "      <td>228.0</td>\n",
       "      <td>150.0</td>\n",
       "      <td>85.0</td>\n",
       "      <td>77.0</td>\n",
       "      <td>81.0</td>\n",
       "      <td>74.0</td>\n",
       "      <td>4.0</td>\n",
       "      <td>6.0</td>\n",
       "      <td>MULTIPOLYGON (((-118.30334 34.27371, -118.3033...</td>\n",
       "    </tr>\n",
       "    <tr>\n",
       "      <th>3</th>\n",
       "      <td>14000US06037101220</td>\n",
       "      <td>Census Tract 1012.20, Los Angeles, CA</td>\n",
       "      <td>3481.0</td>\n",
       "      <td>467.0</td>\n",
       "      <td>2018.0</td>\n",
       "      <td>246.0</td>\n",
       "      <td>1485.0</td>\n",
       "      <td>269.0</td>\n",
       "      <td>0.0</td>\n",
       "      <td>13.0</td>\n",
       "      <td>...</td>\n",
       "      <td>13.0</td>\n",
       "      <td>464.0</td>\n",
       "      <td>319.0</td>\n",
       "      <td>539.0</td>\n",
       "      <td>315.0</td>\n",
       "      <td>502.0</td>\n",
       "      <td>312.0</td>\n",
       "      <td>37.0</td>\n",
       "      <td>41.0</td>\n",
       "      <td>MULTIPOLYGON (((-118.28592 34.25404, -118.2859...</td>\n",
       "    </tr>\n",
       "    <tr>\n",
       "      <th>4</th>\n",
       "      <td>14000US06037101221</td>\n",
       "      <td>Census Tract 1012.21, Los Angeles, CA</td>\n",
       "      <td>3756.0</td>\n",
       "      <td>687.0</td>\n",
       "      <td>2552.0</td>\n",
       "      <td>709.0</td>\n",
       "      <td>1970.0</td>\n",
       "      <td>658.0</td>\n",
       "      <td>101.0</td>\n",
       "      <td>82.0</td>\n",
       "      <td>...</td>\n",
       "      <td>13.0</td>\n",
       "      <td>604.0</td>\n",
       "      <td>340.0</td>\n",
       "      <td>354.0</td>\n",
       "      <td>172.0</td>\n",
       "      <td>354.0</td>\n",
       "      <td>172.0</td>\n",
       "      <td>0.0</td>\n",
       "      <td>13.0</td>\n",
       "      <td>MULTIPOLYGON (((-118.29792 34.25597, -118.2969...</td>\n",
       "    </tr>\n",
       "  </tbody>\n",
       "</table>\n",
       "<p>5 rows × 45 columns</p>\n",
       "</div>"
      ],
      "text/plain": [
       "                geoid                                   name  B03002001  \\\n",
       "0        05000US06037                 Los Angeles County, CA  9936690.0   \n",
       "1  14000US06037101110  Census Tract 1011.10, Los Angeles, CA     4014.0   \n",
       "2  14000US06037101122  Census Tract 1011.22, Los Angeles, CA     4164.0   \n",
       "3  14000US06037101220  Census Tract 1012.20, Los Angeles, CA     3481.0   \n",
       "4  14000US06037101221  Census Tract 1012.21, Los Angeles, CA     3756.0   \n",
       "\n",
       "   B03002001, Error  B03002002  B03002002, Error  B03002003  B03002003, Error  \\\n",
       "0               NaN  5099096.0               NaN  2505177.0            3167.0   \n",
       "1             473.0     2932.0             348.0     2236.0             312.0   \n",
       "2             822.0     3802.0             819.0     2882.0             790.0   \n",
       "3             467.0     2018.0             246.0     1485.0             269.0   \n",
       "4             687.0     2552.0             709.0     1970.0             658.0   \n",
       "\n",
       "   B03002004  B03002004, Error  ...  B03002017, Error  B03002018  \\\n",
       "0   753155.0            3797.0  ...             565.0  2204003.0   \n",
       "1      121.0             149.0  ...              13.0      389.0   \n",
       "2       76.0              86.0  ...              13.0      228.0   \n",
       "3        0.0              13.0  ...              13.0      464.0   \n",
       "4      101.0              82.0  ...              13.0      604.0   \n",
       "\n",
       "   B03002018, Error  B03002019  B03002019, Error  B03002020  B03002020, Error  \\\n",
       "0           17272.0  1056804.0           14343.0   951148.0           15361.0   \n",
       "1             298.0      463.0             259.0      410.0             222.0   \n",
       "2             150.0       85.0              77.0       81.0              74.0   \n",
       "3             319.0      539.0             315.0      502.0             312.0   \n",
       "4             340.0      354.0             172.0      354.0             172.0   \n",
       "\n",
       "   B03002021  B03002021, Error  \\\n",
       "0   105656.0            4248.0   \n",
       "1       53.0              79.0   \n",
       "2        4.0               6.0   \n",
       "3       37.0              41.0   \n",
       "4        0.0              13.0   \n",
       "\n",
       "                                            geometry  \n",
       "0  MULTIPOLYGON (((-118.6782 33.03973, -118.6756 ...  \n",
       "1  MULTIPOLYGON (((-118.30229 34.2587, -118.30091...  \n",
       "2  MULTIPOLYGON (((-118.30334 34.27371, -118.3033...  \n",
       "3  MULTIPOLYGON (((-118.28592 34.25404, -118.2859...  \n",
       "4  MULTIPOLYGON (((-118.29792 34.25597, -118.2969...  \n",
       "\n",
       "[5 rows x 45 columns]"
      ]
     },
     "execution_count": 7,
     "metadata": {},
     "output_type": "execute_result"
    }
   ],
   "source": [
    "# get first 5 rows\n",
    "gdf.head()"
   ]
  },
  {
   "cell_type": "code",
   "execution_count": 8,
   "metadata": {},
   "outputs": [
    {
     "data": {
      "text/html": [
       "<div>\n",
       "<style scoped>\n",
       "    .dataframe tbody tr th:only-of-type {\n",
       "        vertical-align: middle;\n",
       "    }\n",
       "\n",
       "    .dataframe tbody tr th {\n",
       "        vertical-align: top;\n",
       "    }\n",
       "\n",
       "    .dataframe thead th {\n",
       "        text-align: right;\n",
       "    }\n",
       "</style>\n",
       "<table border=\"1\" class=\"dataframe\">\n",
       "  <thead>\n",
       "    <tr style=\"text-align: right;\">\n",
       "      <th></th>\n",
       "      <th>geoid</th>\n",
       "      <th>name</th>\n",
       "      <th>B03002001</th>\n",
       "      <th>B03002001, Error</th>\n",
       "      <th>B03002002</th>\n",
       "      <th>B03002002, Error</th>\n",
       "      <th>B03002003</th>\n",
       "      <th>B03002003, Error</th>\n",
       "      <th>B03002004</th>\n",
       "      <th>B03002004, Error</th>\n",
       "      <th>...</th>\n",
       "      <th>B03002017, Error</th>\n",
       "      <th>B03002018</th>\n",
       "      <th>B03002018, Error</th>\n",
       "      <th>B03002019</th>\n",
       "      <th>B03002019, Error</th>\n",
       "      <th>B03002020</th>\n",
       "      <th>B03002020, Error</th>\n",
       "      <th>B03002021</th>\n",
       "      <th>B03002021, Error</th>\n",
       "      <th>geometry</th>\n",
       "    </tr>\n",
       "  </thead>\n",
       "  <tbody>\n",
       "    <tr>\n",
       "      <th>631</th>\n",
       "      <td>14000US06037209300</td>\n",
       "      <td>Census Tract 2093, Los Angeles, CA</td>\n",
       "      <td>4763.0</td>\n",
       "      <td>608.0</td>\n",
       "      <td>1667.0</td>\n",
       "      <td>334.0</td>\n",
       "      <td>321.0</td>\n",
       "      <td>178.0</td>\n",
       "      <td>603.0</td>\n",
       "      <td>231.0</td>\n",
       "      <td>...</td>\n",
       "      <td>13.0</td>\n",
       "      <td>2057.0</td>\n",
       "      <td>690.0</td>\n",
       "      <td>373.0</td>\n",
       "      <td>313.0</td>\n",
       "      <td>348.0</td>\n",
       "      <td>309.0</td>\n",
       "      <td>25.0</td>\n",
       "      <td>39.0</td>\n",
       "      <td>MULTIPOLYGON (((-118.27314 34.05083, -118.2721...</td>\n",
       "    </tr>\n",
       "  </tbody>\n",
       "</table>\n",
       "<p>1 rows × 45 columns</p>\n",
       "</div>"
      ],
      "text/plain": [
       "                  geoid                                name  B03002001  \\\n",
       "631  14000US06037209300  Census Tract 2093, Los Angeles, CA     4763.0   \n",
       "\n",
       "     B03002001, Error  B03002002  B03002002, Error  B03002003  \\\n",
       "631             608.0     1667.0             334.0      321.0   \n",
       "\n",
       "     B03002003, Error  B03002004  B03002004, Error  ...  B03002017, Error  \\\n",
       "631             178.0      603.0             231.0  ...              13.0   \n",
       "\n",
       "     B03002018  B03002018, Error  B03002019  B03002019, Error  B03002020  \\\n",
       "631     2057.0             690.0      373.0             313.0      348.0   \n",
       "\n",
       "     B03002020, Error  B03002021  B03002021, Error  \\\n",
       "631             309.0       25.0              39.0   \n",
       "\n",
       "                                              geometry  \n",
       "631  MULTIPOLYGON (((-118.27314 34.05083, -118.2721...  \n",
       "\n",
       "[1 rows x 45 columns]"
      ]
     },
     "execution_count": 8,
     "metadata": {},
     "output_type": "execute_result"
    }
   ],
   "source": [
    "# get a random row\n",
    "gdf.sample()"
   ]
  },
  {
   "cell_type": "code",
   "execution_count": 9,
   "metadata": {},
   "outputs": [
    {
     "data": {
      "text/plain": [
       "<Axes: >"
      ]
     },
     "execution_count": 9,
     "metadata": {},
     "output_type": "execute_result"
    },
    {
     "data": {
      "image/png": "[encoded data removed]",
      "text/plain": [
       "<Figure size 1000x1000 with 1 Axes>"
      ]
     },
     "metadata": {},
     "output_type": "display_data"
    }
   ],
   "source": [
    "# plot it!\n",
    "gdf.plot(figsize=(10,10))"
   ]
  },
  {
   "cell_type": "code",
   "execution_count": 13,
   "metadata": {},
   "outputs": [
    {
     "data": {
      "text/plain": [
       "<Axes: >"
      ]
     },
     "execution_count": 13,
     "metadata": {},
     "output_type": "execute_result"
    },
    {
     "data": {
      "image/png": "[encoded data removed]",
      "text/plain": [
       "<Figure size 640x480 with 1 Axes>"
      ]
     },
     "metadata": {},
     "output_type": "display_data"
    }
   ],
   "source": [
    "# plot a random row\n",
    "gdf.sample().plot()"
   ]
  },
  {
   "cell_type": "code",
   "execution_count": null,
   "metadata": {},
   "outputs": [],
   "source": []
  },
  {
   "cell_type": "code",
   "execution_count": null,
   "metadata": {},
   "outputs": [],
   "source": []
  }
 ],
 "metadata": {
  "kernelspec": {
   "display_name": "ml",
   "language": "python",
   "name": "python3"
  },
  "language_info": {
   "codemirror_mode": {
    "name": "ipython",
    "version": 3
   },
   "file_extension": ".py",
   "mimetype": "text/x-python",
   "name": "python",
   "nbconvert_exporter": "python",
   "pygments_lexer": "ipython3",
   "version": "3.12.1"
  }
 },
 "nbformat": 4,
 "nbformat_minor": 2
}
